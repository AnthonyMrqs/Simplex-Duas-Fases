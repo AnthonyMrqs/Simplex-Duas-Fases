{
 "cells": [
  {
   "cell_type": "code",
   "execution_count": 3,
   "metadata": {},
   "outputs": [],
   "source": [
    "import numpy as np\n",
    "from sympy.interactive import printing\n",
    "from sympy import Rational, Matrix, Eq, Symbol\n",
    "from IPython.display import display\n",
    "\n",
    "printing.init_printing()"
   ]
  },
  {
   "cell_type": "code",
   "execution_count": 68,
   "metadata": {},
   "outputs": [],
   "source": [
    "def to_fractions(matrix): # Converte uma matriz em frações\n",
    "    # Converte a matriz para frações\n",
    "    fractions_matrix = np.array(Matrix(matrix).applyfunc(lambda x: Rational(x).limit_denominator()))\n",
    "    \n",
    "    # Verifica se é um vetor (matriz com uma única coluna ou linha)\n",
    "    if fractions_matrix.shape[0] == 1 or fractions_matrix.shape[1] == 1:\n",
    "        return Matrix(fractions_matrix.T)  # Retorna como vetor unidimensional\n",
    "    else:\n",
    "        return Matrix(fractions_matrix)  # Retorna no formato de matriz\n",
    "\n",
    "\n",
    "def add_var(n, A, idxs = None): # Função para adicionar as variáveis de folga\n",
    "    identity = np.identity(n) # Cria a matriz identidade\n",
    "\n",
    "    if idxs == None:\n",
    "        idxs = []\n",
    "\n",
    "    for i in idxs: #Se o parâmtro idx estiver preenchido, quer dizer que teremos desigualdades inversas\n",
    "        identity[i][i] = -identity[i][i]\n",
    "\n",
    "    return np.concatenate((A, identity), axis=1)\n",
    "\n",
    "\n",
    "def delete_duplicate(A): # Função para deleter colunas duplicadas\n",
    "    At = A.T\n",
    "    _, b = np.unique(At, axis=0, return_index=True) # Coleta os indices das colunas únicas\n",
    "    b = np.sort(b) # Organiza o array b para que a ordem da matriz não seja afetada\n",
    "    Af = At[b] # Matriz com as colunas únicas\n",
    "\n",
    "    return Af.T\n",
    "    \n",
    "\n",
    "def scaling(A, pivo): # Função para escalonar uma matriz\n",
    "    i, j = pivo # coordenadas do elem pivo\n",
    "    elem = A[i][j] # elemento pivô\n",
    "\n",
    "    # Confere se o elemento pivô = 1\n",
    "    if elem != 1: \n",
    "        A[i] = [A[i][k]/elem for k in range(len(A[0]))]\n",
    "    \n",
    "    #Escalona a matriz\n",
    "    for n in range(len(A)):\n",
    "        if n != i:\n",
    "            p = A[n][j]\n",
    "            for m in range(len(A[0])):\n",
    "                A[n][m] = A[n][m] - p*A[i][m]\n",
    "    \n",
    "    return A    \n",
    "\n",
    "\n",
    "def check_base(m): # Função para explicitar a base no tableau\n",
    "    identity = np.identity(m.shape[0])\n",
    "    mb = np.array(m.T[:-1]) # Retira a coluna B e faz a transposição do tableau \n",
    "    aux = []\n",
    "\n",
    "    # Compara cada linha ou coluna da matriz identidade com a matriz mb afim de verificar se existe a matriz identidade está dentro do tableau\n",
    "    for id_colunm in identity:\n",
    "        for colunm in mb:\n",
    "            if np.array_equal(id_colunm, colunm):\n",
    "                aux.append(id_colunm)\n",
    "                break\n",
    "\n",
    "    aux = np.array(aux) # Array com as colunas da matriz identidade encontradas\n",
    "\n",
    "    not_id_col = [] # Array onde haverá os indíces das colunas que não fazem parte da matriz identidade\n",
    "\n",
    "    # Compara se as colunas identidade achadas no tableau não pertencem à matriz identidade \n",
    "    for i, col in enumerate(mb):\n",
    "        if not any(np.array_equal(col, col_a) for col_a in aux):\n",
    "            not_id_col.append(i)\n",
    "    \n",
    "    # Se o array estiver vazio, isto significa que que a base está explícita e retorna o tableau sem alterações\n",
    "    if not not_id_col:\n",
    "        return m\n",
    "    \n",
    "    diference = []\n",
    "\n",
    "    # Coleta as colunas da matriz identidade que faltam\n",
    "    for line in identity:\n",
    "        if not any(np.array_equal(line, aux_line) for aux_line in aux):\n",
    "            diference.append(line)\n",
    "    \n",
    "    # Escalona a matriz de forma que as colunas identidade que faltavam apareçam no tableau\n",
    "    for i, line in enumerate(diference):\n",
    "        j = np.where(line == 1)[0][0] \n",
    "        pivo = (j, not_id_col[i])\n",
    "\n",
    "        m = scaling(m, pivo)\n",
    "    \n",
    "    return m\n",
    "\n",
    "\n",
    "def argmin(b, v): # Função para calcular o o argmin do vetor b_i/a_iq\n",
    "    a_s = np.array(v) # Fazendo uma lista com os elementos que vâo se tornar os denominadores\n",
    "    if np.all(a_s <= 0): # confere se todos os a's são negativos, se sim, o problema é ilimitado e retorna vazio.\n",
    "        return None\n",
    "    \n",
    "    ps = np.array([b[i]/a_s[i] if a_s[i] > 0  else np.inf for i in range(len(b))]) # Calcula todos os elementos que vão ser calculados no argmin\n",
    "            \n",
    "    return np.argmin(ps)\n",
    "\n",
    "\n",
    "def collect_indexes(t): # Coleta os índices das variáveis básicas e não básicas\n",
    "    identity = np.identity(len(t)) # Cria uma matriz identidade de acordo com o numero de linhas do tableau inicial\n",
    "    \n",
    "    t = t.T[:-1] # Retira a coluna B e faz a transposição do tableau \n",
    "    tb = np.array(t) \n",
    "    ctb = []\n",
    "\n",
    "    # Compara cada linha ou coluna da matriz identidade com a matriz tb afim de procurar onde estão os indices da base\n",
    "    for id_colunm in identity:\n",
    "        for i, colunm in enumerate(tb):\n",
    "            if np.array_equal(id_colunm, colunm):\n",
    "                ctb.append(i)\n",
    "                break     \n",
    "    ctn = []\n",
    "    \n",
    "    # Coleta todos os indices dos coeficientes que estão fora da base\n",
    "    ctn = [i for i in range(len(t)) if i not in ctb]\n",
    "\n",
    "    return ctb, ctn\n",
    "\n",
    "\n",
    "def two_phase(tableau, b, cfs1, show): # Função responsável por realizar o método de duas fases\n",
    "    dim = len(tableau)\n",
    "    cfs2 = np.append(np.zeros(len(cfs1)), [-1]*dim) # Adiciona yn aos coeficientes e zera os coeficientes anteriores\n",
    "    \n",
    "    A = simplex_algorithm(tableau, b, cfs2, show) \n",
    "\n",
    "    sols = A[:, -1] # Coleta a ultima coluna da matriz (soluções)\n",
    "\n",
    "    y_values = np.zeros(len(A[0]) - 1) # Inicializa uma matriz de 0's do tamanho das soluções \n",
    "\n",
    "    #Percorre as colunas da matriz \n",
    "    for i in range(A.shape[1] - 1):\n",
    "        col = A[:, i] \n",
    "        if np.count_nonzero(col) == 1 and 1 in col: # Confere se a coluna faz parte da matriz identidade\n",
    "            indice = np.where(col == 1)[0][0] # Coleta o indíce onde se encontra o 1 na coluna\n",
    "            y_values[i] = sols[indice]\n",
    "    \n",
    "    if not np.all(y_values[len(cfs1):] == 0): # Confere o vetor y tem solução diferente de 0\n",
    "        return None\n",
    "    \n",
    "    return A\n",
    "\n",
    "\n",
    "def simplex_algorithm(A, b, cfs, show): # Função responsável por realizar o algoritimo simplex\n",
    "    A = check_base(A) # Escalona a matriz caso a base esteja implícita\n",
    "\n",
    "    if show:\n",
    "        print(\"Temos o tableau inicial:\")\n",
    "        display(to_fractions(A))\n",
    "        \n",
    "    # Realiza um laço infinito até a solução ótima for achada ou o problema for ilimitado\n",
    "    while True:   \n",
    "        i_ctb, i_ctn = collect_indexes(A) # Indice das variáveis básicas e não básicas\n",
    "\n",
    "        An = np.array([A.T[k] for k in i_ctn]).T # Monta a matriz a partir dos indíces de variáveis não básicas\n",
    "        # Ab = np.array([A.T[k] for k in i_ctb]).T # Monta a matriz a partir dos indíces de variáveis básicas\n",
    "\n",
    "        # Variáveis básicas e não básicas\n",
    "        ctb = [cfs[i] for i in i_ctb]\n",
    "        ctn = [cfs[j] for j in i_ctn]\n",
    "\n",
    "        if show:\n",
    "            print(\"=\"*100)\n",
    "            display(Eq(Symbol(\"c_b^t\"), to_fractions(ctb), evaluate=False))\n",
    "            display(Eq(Symbol(\"c_n^t\"), to_fractions(ctn), evaluate=False))\n",
    "\n",
    "        # Operações para achar o vetor dos coeficientes de custo reduzido\n",
    "        z = ctb @ An\n",
    "        r = ctn - z\n",
    "        \n",
    "        if show:\n",
    "            display(Eq(Symbol(\"z\"), to_fractions(z), evaluate=False))\n",
    "            display(Eq(Symbol(\"r\"), to_fractions(r), evaluate=False))\n",
    "\n",
    "        # # Confere se o vetor de custo está dentro das condições para solução ser ótima\n",
    "        # if np.all(r == 0):\n",
    "        #     for i in range(len(r)):\n",
    "        #         if np.any(An.T[i] > 0):\n",
    "        #             print(\"Problema com infinitas soluções\")\n",
    "        #             return None\n",
    "        \n",
    "        if np.all(r <= 0):\n",
    "            if show:\n",
    "                print(\"Achamos a solução ótima!\\n\")\n",
    "            return A\n",
    "        \n",
    "        # Usa a regra proposta por George Dantzig (usar o maior coeficiente de custo) para sabe qual variável q da matriz An irá entrar na base e armazena a coluna q\n",
    "        q = np.argmax(r)\n",
    "        vector_q =  An.T[q]\n",
    "\n",
    "        # Calcula o indíce de variável que irá sair da base\n",
    "        p = argmin(b, vector_q)\n",
    "\n",
    "        if show:\n",
    "            print(f\"Entraremos com a {q+1}ª variavel da matriz:\")\n",
    "            display(Eq(Symbol(\"A_n\"), to_fractions(An), evaluate=False))  \n",
    "        \n",
    "            print(f\"Temos que,\") \n",
    "            display(Eq(Symbol(\"p\"), Symbol(\"Indeterminado\") if p == None else p+1, evaluate=False))             \n",
    "\n",
    "        # Caso o p seja vazio, o problema é ilimitado\n",
    "        if p == None:\n",
    "            print(\"\\nProblema Ilimitado.\")\n",
    "            return None\n",
    "        \n",
    "        # Troca a base de acordo com os indíces p e q\n",
    "        A = scaling(A, (p, i_ctn[q]))\n",
    "\n",
    "        if show:\n",
    "            print(f\"Temos o tableau final:\")\n",
    "            display(to_fractions(A))\n",
    "\n",
    "\n",
    "def solutions(A, f, show = None): # Função para expor a solução do PPL\n",
    "    sols = A[:, -1] # Coleta a ultima coluna da matriz (soluções)\n",
    "\n",
    "    x_values = np.zeros(len(A[0]) - 1) # Inicializa uma matriz de 0's do tamanho das soluções \n",
    "\n",
    "    #Percorre as colunas da matriz \n",
    "    for i in range(A.shape[1] - 1):\n",
    "        col = A[:, i] \n",
    "        if np.count_nonzero(col) == 1 and 1 in col: # Confere se a coluna faz parte da matriz identidade\n",
    "            indice = np.where(col == 1)[0][0] # Coleta o indíce onde se encontra o 1 na coluna\n",
    "            x_values[i] = sols[indice]\n",
    "\n",
    "    x_values = x_values[:len(f)] # Ignora as variáveis de folga e coleta apenas as soluções das variáveis da função objetivo\n",
    "    result = sum(x_values[i]*e for i, e in enumerate(f)) # Calcula a solução ótima\n",
    "\n",
    "    if show:\n",
    "        print(\"O valor ótimo é:\") \n",
    "        display(Rational(result).limit_denominator())\n",
    "        display(Eq(Symbol(\"X\"), to_fractions(x_values), evaluate = False))\n",
    "    \n",
    "    return x_values, result\n",
    "\n",
    "\n",
    "def simplex(A, b, c, eq = None, show = None): # Função que realiza a preparação do tableau para as operações do algoritimo\n",
    "    n = len(A)\n",
    "    idx = [i for i in range(len(b)) if b[i] < 0] # Lista de índices que tem a desigualdade >=\n",
    "    b = np.abs(b) # Aplicao o valor absoluto em todos os elementos da coluna b\n",
    "\n",
    "    # Confere se o problema se trata de igualdade, desigualdades inversas ou desigualdades iguais\n",
    "    if eq:\n",
    "        tableau = A\n",
    "    elif len(idx) > 0:\n",
    "        tableau = add_var(n, A, idx) # Adiciona as variaveis de folga\n",
    "        tableau = add_var(n, tableau) # Adiciona as variáveis artificiais\n",
    "    else:\n",
    "        tableau = add_var(n, A)\n",
    "\n",
    "\n",
    "    tableau = delete_duplicate(tableau) # Retira as colunas duplicadas\n",
    "    tableau = np.hstack((tableau, b.reshape(-1, 1))) # Concatena a coluna B ao tableau\n",
    "\n",
    "    coeficientes = np.append(c, [0]*n) # Adicionando os coeficentes das variaveis de folga\n",
    "\n",
    "    # Caso o problema apresente desigualdade inversas, será realizado o simplex de duas fases\n",
    "    if idx:\n",
    "        tableau = two_phase(tableau, b, coeficientes, show) # Tableau final do método duas fases\n",
    "\n",
    "        if np.any(tableau == None):\n",
    "            print(\"Problema original não tem solução viável.\")\n",
    "            return \n",
    "        \n",
    "        tableau = np.concatenate((tableau[:, :coeficientes.shape[0]], tableau[:, -1:]), axis=1) # Retira as colunas y's do tableau\n",
    "\n",
    "        if show:\n",
    "            print(\"=\"*100)\n",
    "    \n",
    "    # Realiza o simplex para resolver o PPL\n",
    "    result = simplex_algorithm(tableau, b, coeficientes, show)\n",
    "    \n",
    "    # Confere se o programa achou a solução e expõe a solução\n",
    "    if np.any(result != None):\n",
    "        return solutions(result, c, show)"
   ]
  },
  {
   "cell_type": "code",
   "execution_count": 81,
   "metadata": {},
   "outputs": [
    {
     "name": "stdout",
     "output_type": "stream",
     "text": [
      "Temos o tableau inicial:\n"
     ]
    },
    {
     "data": {
      "text/latex": [
       "$\\displaystyle \\left[\\begin{matrix}1 & 0 & 0 & -1 & 2\\\\0 & 1 & 0 & 2 & 1\\\\0 & 0 & 1 & 1 & 1\\end{matrix}\\right]$"
      ],
      "text/plain": [
       "⎡1  0  0  -1  2⎤\n",
       "⎢              ⎥\n",
       "⎢0  1  0  2   1⎥\n",
       "⎢              ⎥\n",
       "⎣0  0  1  1   1⎦"
      ]
     },
     "metadata": {},
     "output_type": "display_data"
    },
    {
     "name": "stdout",
     "output_type": "stream",
     "text": [
      "====================================================================================================\n"
     ]
    },
    {
     "data": {
      "text/latex": [
       "$\\displaystyle c^{t}_{b} = \\left[\\begin{matrix}-1 & -1 & -1\\end{matrix}\\right]$"
      ],
      "text/plain": [
       "c_b__t = [-1  -1  -1]"
      ]
     },
     "metadata": {},
     "output_type": "display_data"
    },
    {
     "data": {
      "text/latex": [
       "$\\displaystyle c^{t}_{n} = \\left[\\begin{matrix}-1\\end{matrix}\\right]$"
      ],
      "text/plain": [
       "c_n__t = [-1]"
      ]
     },
     "metadata": {},
     "output_type": "display_data"
    },
    {
     "data": {
      "text/latex": [
       "$\\displaystyle z = \\left[\\begin{matrix}-2\\end{matrix}\\right]$"
      ],
      "text/plain": [
       "z = [-2]"
      ]
     },
     "metadata": {},
     "output_type": "display_data"
    },
    {
     "data": {
      "text/latex": [
       "$\\displaystyle r = \\left[\\begin{matrix}1\\end{matrix}\\right]$"
      ],
      "text/plain": [
       "r = [1]"
      ]
     },
     "metadata": {},
     "output_type": "display_data"
    },
    {
     "name": "stdout",
     "output_type": "stream",
     "text": [
      "Entraremos com a 1ª variavel da matriz:\n"
     ]
    },
    {
     "data": {
      "text/latex": [
       "$\\displaystyle A_{n} = \\left[\\begin{matrix}-1 & 2 & 1\\end{matrix}\\right]$"
      ],
      "text/plain": [
       "Aₙ = [-1  2  1]"
      ]
     },
     "metadata": {},
     "output_type": "display_data"
    },
    {
     "name": "stdout",
     "output_type": "stream",
     "text": [
      "Temos que,\n"
     ]
    },
    {
     "data": {
      "text/latex": [
       "$\\displaystyle p = 2$"
      ],
      "text/plain": [
       "p = 2"
      ]
     },
     "metadata": {},
     "output_type": "display_data"
    },
    {
     "name": "stdout",
     "output_type": "stream",
     "text": [
      "Temos o tableau final:\n"
     ]
    },
    {
     "data": {
      "text/latex": [
       "$\\displaystyle \\left[\\begin{matrix}1 & 0 & 0 & 0 & 2\\\\0 & 0 & 0 & 1 & 0\\\\0 & 0 & 1 & 0 & 1\\end{matrix}\\right]$"
      ],
      "text/plain": [
       "⎡1  0  0  0  2⎤\n",
       "⎢             ⎥\n",
       "⎢0  0  0  1  0⎥\n",
       "⎢             ⎥\n",
       "⎣0  0  1  0  1⎦"
      ]
     },
     "metadata": {},
     "output_type": "display_data"
    },
    {
     "name": "stdout",
     "output_type": "stream",
     "text": [
      "====================================================================================================\n"
     ]
    },
    {
     "data": {
      "text/latex": [
       "$\\displaystyle c^{t}_{b} = \\left[\\begin{matrix}-1 & -1 & -1\\end{matrix}\\right]$"
      ],
      "text/plain": [
       "c_b__t = [-1  -1  -1]"
      ]
     },
     "metadata": {},
     "output_type": "display_data"
    },
    {
     "data": {
      "text/latex": [
       "$\\displaystyle c^{t}_{n} = \\left[\\begin{matrix}-1\\end{matrix}\\right]$"
      ],
      "text/plain": [
       "c_n__t = [-1]"
      ]
     },
     "metadata": {},
     "output_type": "display_data"
    },
    {
     "data": {
      "text/latex": [
       "$\\displaystyle z = \\left[\\begin{matrix}0\\end{matrix}\\right]$"
      ],
      "text/plain": [
       "z = [0]"
      ]
     },
     "metadata": {},
     "output_type": "display_data"
    },
    {
     "data": {
      "text/latex": [
       "$\\displaystyle r = \\left[\\begin{matrix}-1\\end{matrix}\\right]$"
      ],
      "text/plain": [
       "r = [-1]"
      ]
     },
     "metadata": {},
     "output_type": "display_data"
    },
    {
     "name": "stdout",
     "output_type": "stream",
     "text": [
      "Achamos a solução ótima!\n",
      "\n",
      "O valor ótimo é:\n"
     ]
    },
    {
     "data": {
      "text/latex": [
       "$\\displaystyle -3$"
      ],
      "text/plain": [
       "-3"
      ]
     },
     "metadata": {},
     "output_type": "display_data"
    },
    {
     "data": {
      "text/latex": [
       "$\\displaystyle X = \\left[\\begin{matrix}2 & 0 & 1 & 0\\end{matrix}\\right]$"
      ],
      "text/plain": [
       "X = [2  0  1  0]"
      ]
     },
     "metadata": {},
     "output_type": "display_data"
    }
   ],
   "source": [
    "c = np.array([1, 1, 1, 1])\n",
    "A = np.array([[1, 0, 1, 0],\n",
    "             [0, 1, 1, 3],\n",
    "             [0, 0, 1, 1]\n",
    "              ]) \n",
    "\n",
    "b = np.array([3,\n",
    "              2,\n",
    "              1])\n",
    "\n",
    "res = simplex(A, b, -c, eq = True, show = True)\n",
    "# res[0], res[1]"
   ]
  }
 ],
 "metadata": {
  "kernelspec": {
   "display_name": "Python 3",
   "language": "python",
   "name": "python3"
  },
  "language_info": {
   "codemirror_mode": {
    "name": "ipython",
    "version": 3
   },
   "file_extension": ".py",
   "mimetype": "text/x-python",
   "name": "python",
   "nbconvert_exporter": "python",
   "pygments_lexer": "ipython3",
   "version": "3.11.4"
  }
 },
 "nbformat": 4,
 "nbformat_minor": 2
}
